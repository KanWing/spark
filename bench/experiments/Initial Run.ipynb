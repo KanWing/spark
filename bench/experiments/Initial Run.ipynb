{
 "metadata": {
  "name": "",
  "signature": "sha256:d58e3161f72a998530ad56559f2fb0a36262fdf36cdf8abe82b4920a5d99e429"
 },
 "nbformat": 3,
 "nbformat_minor": 0,
 "worksheets": [
  {
   "cells": [
    {
     "cell_type": "code",
     "collapsed": false,
     "input": [
      "%pylab inline\n",
      "import pickle\n",
      "import pandas as pd"
     ],
     "language": "python",
     "metadata": {},
     "outputs": []
    },
    {
     "cell_type": "code",
     "collapsed": false,
     "input": [
      "results = pickle.load(open(\"08_02_14.pkl\"))\n",
      "df = pd.DataFrame.from_dict(resdict)"
     ],
     "language": "python",
     "metadata": {},
     "outputs": []
    },
    {
     "cell_type": "code",
     "collapsed": false,
     "input": [
      "plot([d['runtime_ms'] for d in results if d['algorithm'] == 'SVM'], \n",
      "     [d['training_loss'] for d in results if d['algorithm'] == 'SVM'], 'b-x')\n",
      "plot([d['runtime_ms'] for d in results if d['algorithm'] == 'SVMADMM'], \n",
      "     [d['training_loss'] for d in results if d['algorithm'] == 'SVMADMM'], 'r-x')"
     ],
     "language": "python",
     "metadata": {},
     "outputs": []
    },
    {
     "cell_type": "code",
     "collapsed": false,
     "input": [
      "plot([d['runtime_ms'] for d in results if d['algorithm'] == 'SVM'], \n",
      "     [d['training_loss'] for d in results if d['algorithm'] == 'SVM'], 'b-x')\n",
      "plot([d['runtime_ms'] for d in results if d['algorithm'] == 'SVMADMM'], \n",
      "     [d['training_loss'] for d in results if d['algorithm'] == 'SVMADMM'], 'r-x')\n",
      "plot([d['runtime_ms'] for d in results if d['algorithm'] == 'SVMADMMAsync'], \n",
      "     [d['training_loss'] for d in results if d['algorithm'] == 'SVMADMMAsync'], 'g-x')"
     ],
     "language": "python",
     "metadata": {},
     "outputs": []
    },
    {
     "cell_type": "code",
     "collapsed": false,
     "input": [],
     "language": "python",
     "metadata": {},
     "outputs": []
    }
   ],
   "metadata": {}
  }
 ]
}